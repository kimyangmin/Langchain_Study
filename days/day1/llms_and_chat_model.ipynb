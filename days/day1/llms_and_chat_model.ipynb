{
 "cells": [
  {
   "cell_type": "markdown",
   "id": "38da1363",
   "metadata": {},
   "source": [
    "# Chat Model"
   ]
  },
  {
   "cell_type": "code",
   "execution_count": 23,
   "id": "43f8cd0f",
   "metadata": {},
   "outputs": [],
   "source": [
    "from dotenv import load_dotenv\n",
    "import os\n",
    "\n",
    "load_dotenv()\n",
    "\n",
    "OPENAI_API_KEY = os.getenv(\"OPENAI_API_KEY\")"
   ]
  },
  {
   "cell_type": "code",
   "execution_count": 18,
   "id": "9d58b9bc",
   "metadata": {},
   "outputs": [
    {
     "name": "stdout",
     "output_type": "stream",
     "text": [
      "content='In our Solar System, there are 8 planets: Mercury, Venus, Earth, Mars, Jupiter, Saturn, Uranus, and Neptune. Pluto is classified as a dwarf planet, not a full planet.\\n\\nIf you’re asking about planets outside our Solar System (exoplanets), thousands have been discovered so far, with estimates of billions of planets in the Milky Way alone. The total number in the entire universe is unknown. Want details on exoplanets or Pluto’s status?' additional_kwargs={'refusal': None} response_metadata={'token_usage': {'completion_tokens': 811, 'prompt_tokens': 12, 'total_tokens': 823, 'completion_tokens_details': {'accepted_prediction_tokens': 0, 'audio_tokens': 0, 'reasoning_tokens': 704, 'rejected_prediction_tokens': 0}, 'prompt_tokens_details': {'audio_tokens': 0, 'cached_tokens': 0}}, 'model_name': 'gpt-5-nano-2025-08-07', 'system_fingerprint': None, 'id': 'chatcmpl-CJe0XD5Q1qUtfhYKBV7hv1ZBDBcBl', 'service_tier': 'default', 'finish_reason': 'stop', 'logprobs': None} id='run--68b24d15-d27d-4c43-8285-fc1aabf13ffe-0' usage_metadata={'input_tokens': 12, 'output_tokens': 811, 'total_tokens': 823, 'input_token_details': {'audio': 0, 'cache_read': 0}, 'output_token_details': {'audio': 0, 'reasoning': 704}}\n"
     ]
    }
   ],
   "source": [
    "from langchain_openai import ChatOpenAI, OpenAI\n",
    "\n",
    "chat = ChatOpenAI(\n",
    "    model= \"gpt-5-nano\"\n",
    ")\n",
    "llm = OpenAI()\n",
    "\n",
    "print(chat.invoke(\"How many planets are there?\"))\n"
   ]
  },
  {
   "cell_type": "markdown",
   "id": "d4a10c81",
   "metadata": {},
   "source": [
    "# Message Schema"
   ]
  },
  {
   "cell_type": "code",
   "execution_count": 19,
   "id": "ad65fac6",
   "metadata": {},
   "outputs": [],
   "source": [
    "from langchain_openai import ChatOpenAI\n",
    "\n",
    "chat = ChatOpenAI(\n",
    "    model=\"gpt-5-nano\",\n",
    "    temperature=0.1\n",
    ")"
   ]
  },
  {
   "cell_type": "code",
   "execution_count": null,
   "id": "a011f463",
   "metadata": {},
   "outputs": [
    {
     "data": {
      "text/plain": [
       "AIMessage(content='안녕하세요! 저는 지리 전문가입니다. 하지만 구체적인 나라 이름을 알려주시면 두 나라 사이의 거리를 알려드릴 수 있어요. 제 이름은 ChatGPT입니다.', additional_kwargs={'refusal': None}, response_metadata={'token_usage': {'completion_tokens': 39, 'prompt_tokens': 59, 'total_tokens': 98, 'completion_tokens_details': {'accepted_prediction_tokens': 0, 'audio_tokens': 0, 'reasoning_tokens': 0, 'rejected_prediction_tokens': 0}, 'prompt_tokens_details': {'audio_tokens': 0, 'cached_tokens': 0}}, 'model_name': 'gpt-4.1-nano-2025-04-14', 'system_fingerprint': 'fp_7c233bf9d1', 'id': 'chatcmpl-CJe664x4LsowVYAfmPXDNZ1ULkApK', 'service_tier': 'default', 'finish_reason': 'stop', 'logprobs': None}, id='run--4e47c2ac-1e5a-4220-be81-05b5bb2bd21e-0', usage_metadata={'input_tokens': 59, 'output_tokens': 39, 'total_tokens': 98, 'input_token_details': {'audio': 0, 'cache_read': 0}, 'output_token_details': {'audio': 0, 'reasoning': 0}})"
      ]
     },
     "execution_count": 24,
     "metadata": {},
     "output_type": "execute_result"
    }
   ],
   "source": [
    "from langchain.schema import HumanMessage, AIMessage, SystemMessage\n",
    "\n",
    "messages = [\n",
    "    SystemMessage(\n",
    "        content = \"You are a goography expert. And you only reply in {language}\"\n",
    "    ),\n",
    "    AIMessage(\n",
    "        content = \"안녕, 난 {name}야!\"\n",
    "    ),\n",
    "    HumanMessage(\n",
    "        content = \"What is the distance between {country_a} and {country_b}. Alse, what if your name?\"\n",
    "    )\n",
    "]\n",
    "\n",
    "chat.predict_messages(messages=messages)"
   ]
  },
  {
   "cell_type": "markdown",
   "id": "f69d1b22",
   "metadata": {},
   "source": [
    "# Message Template"
   ]
  },
  {
   "cell_type": "code",
   "execution_count": 21,
   "id": "db3644d2",
   "metadata": {},
   "outputs": [
    {
     "data": {
      "text/plain": [
       "AIMessage(content='The distance between Korea (specifically South Korea) and Japan varies depending on the specific locations measured. The shortest distance between the two countries is across the Korea Strait, between the southwestern tip of South Korea (such as Busan) and the southwestern islands of Japan (like Fukuoka). \\n\\n- The approximate straight-line (air) distance between Busan, South Korea, and Fukuoka, Japan, is about **200 kilometers (124 miles)**.\\n\\nIf you are referring to the distance between the capitals:\\n\\n- Seoul, South Korea, to Tokyo, Japan, is approximately **1,150 kilometers (715 miles)** in a straight line.\\n\\nPlease specify the exact locations if you need a more precise measurement!', additional_kwargs={'refusal': None}, response_metadata={'token_usage': {'completion_tokens': 143, 'prompt_tokens': 15, 'total_tokens': 158, 'completion_tokens_details': {'accepted_prediction_tokens': 0, 'audio_tokens': 0, 'reasoning_tokens': 0, 'rejected_prediction_tokens': 0}, 'prompt_tokens_details': {'audio_tokens': 0, 'cached_tokens': 0}}, 'model_name': 'gpt-4.1-nano-2025-04-14', 'system_fingerprint': 'fp_7c233bf9d1', 'id': 'chatcmpl-CJe0rMRuIYsUQugLEKsHwJHtMYYgL', 'service_tier': 'default', 'finish_reason': 'stop', 'logprobs': None}, id='run--c86e6420-4a13-4968-b7bd-a70ad0121413-0', usage_metadata={'input_tokens': 15, 'output_tokens': 143, 'total_tokens': 158, 'input_token_details': {'audio': 0, 'cache_read': 0}, 'output_token_details': {'audio': 0, 'reasoning': 0}})"
      ]
     },
     "execution_count": 21,
     "metadata": {},
     "output_type": "execute_result"
    }
   ],
   "source": [
    "from langchain_openai import ChatOpenAI\n",
    "from langchain_core.prompts import PromptTemplate, ChatPromptTemplate\n",
    "\n",
    "chat = ChatOpenAI(\n",
    "    model = \"gpt-4.1-nano\",\n",
    "    temperature = 0.1\n",
    ")\n",
    "\n",
    "template = PromptTemplate.from_template(\n",
    "    \"What is the distance between {country_a} and {country_b}\"\n",
    ")\n",
    "\n",
    "prompt = template.format(country_a = \"korea\", country_b = \"Japan\")\n",
    "\n",
    "chat.invoke(prompt)"
   ]
  },
  {
   "cell_type": "code",
   "execution_count": 22,
   "id": "0cb2f5fe",
   "metadata": {},
   "outputs": [
    {
     "data": {
      "text/plain": [
       "AIMessage(content='스페인과 이탈리아 사이의 거리는 약 1,000에서 1,200킬로미터 정도입니다. 두 나라 사이의 정확한 거리는 출발점과 도착점에 따라 다를 수 있습니다. 제 이름은 양민 김입니다.', additional_kwargs={'refusal': None}, response_metadata={'token_usage': {'completion_tokens': 58, 'prompt_tokens': 54, 'total_tokens': 112, 'completion_tokens_details': {'accepted_prediction_tokens': 0, 'audio_tokens': 0, 'reasoning_tokens': 0, 'rejected_prediction_tokens': 0}, 'prompt_tokens_details': {'audio_tokens': 0, 'cached_tokens': 0}}, 'model_name': 'gpt-4.1-nano-2025-04-14', 'system_fingerprint': 'fp_7c233bf9d1', 'id': 'chatcmpl-CJe0tDUrjJyAoTt9t4gxh36BNUWeC', 'service_tier': 'default', 'finish_reason': 'stop', 'logprobs': None}, id='run--c5c6cc0c-c527-48b0-8efb-7a609682a9bb-0', usage_metadata={'input_tokens': 54, 'output_tokens': 58, 'total_tokens': 112, 'input_token_details': {'audio': 0, 'cache_read': 0}, 'output_token_details': {'audio': 0, 'reasoning': 0}})"
      ]
     },
     "execution_count": 22,
     "metadata": {},
     "output_type": "execute_result"
    }
   ],
   "source": [
    "template = ChatPromptTemplate.from_messages(\n",
    "    [\n",
    "        (\"system\" , \"You are a geography expert. And you only reply in {language}\"),\n",
    "        (\"ai\", \"Ciao, mi chiamo {name}!\"),\n",
    "        (\n",
    "            \"human\",\n",
    "            \"What is the distance between {country_a} and {country_b}. Also, what is your name?\"\n",
    "        )\n",
    "    ]\n",
    ")\n",
    "\n",
    "prompt = template.format_messages(\n",
    "    language = \"Korean\",\n",
    "    name = \"Yangmin Kim\",\n",
    "    country_a = \"spain\",\n",
    "    country_b = \"Italia\"\n",
    ")\n",
    "\n",
    "chat.invoke(prompt)"
   ]
  },
  {
   "cell_type": "markdown",
   "id": "ebaf8376",
   "metadata": {},
   "source": [
    "# Output Parser"
   ]
  },
  {
   "cell_type": "code",
   "execution_count": 25,
   "id": "c1034a80",
   "metadata": {},
   "outputs": [],
   "source": [
    "from langchain_openai import ChatOpenAI\n",
    "from langchain_core.prompts import ChatPromptTemplate\n",
    "\n",
    "chat = ChatOpenAI(\n",
    "    model = \"gpt-4o-mini\",\n",
    "    temperature = 0.1\n",
    ")"
   ]
  },
  {
   "cell_type": "code",
   "execution_count": 29,
   "id": "06b0d1aa",
   "metadata": {},
   "outputs": [],
   "source": [
    "from langchain.schema import BaseOutputParser\n",
    "\n",
    "\"\"\"\n",
    "a, b, c, d\n",
    "\"\"\"\n",
    "\n",
    "\n",
    "class CommaOutputParser(BaseOutputParser):\n",
    "    def parse(self, text):\n",
    "        items = text.strip().split(\",\")\n",
    "        return list(map(str.strip, items))"
   ]
  },
  {
   "cell_type": "code",
   "execution_count": 33,
   "id": "016b6de6",
   "metadata": {},
   "outputs": [
    {
     "data": {
      "text/plain": [
       "['a', ' b', ' c', ' d']"
      ]
     },
     "execution_count": 33,
     "metadata": {},
     "output_type": "execute_result"
    }
   ],
   "source": [
    "test = \"a, b, c, d\"\n",
    "\n",
    "test.strip().split(\",\")"
   ]
  },
  {
   "cell_type": "code",
   "execution_count": 36,
   "id": "f998430c",
   "metadata": {},
   "outputs": [],
   "source": [
    "template = ChatPromptTemplate.from_messages(\n",
    "    [\n",
    "        (\n",
    "            \"system\",\n",
    "            \"You are a list generating machine. Everything you are asked will be answerd with a comma separated list of max {max_items} in lowercase. DO NOT reply anything else\"\n",
    "        ),\n",
    "        (\"human\", \"{question}\")\n",
    "    ]\n",
    ")"
   ]
  },
  {
   "cell_type": "code",
   "execution_count": 37,
   "id": "26f6d519",
   "metadata": {},
   "outputs": [
    {
     "data": {
      "text/plain": [
       "['pikachu', 'bulbasaur', 'charmander', 'squirtle', 'jigglypuff']"
      ]
     },
     "execution_count": 37,
     "metadata": {},
     "output_type": "execute_result"
    }
   ],
   "source": [
    "chain = template | chat | CommaOutputParser()\n",
    "\n",
    "chain.invoke(\n",
    "    {\n",
    "        \"max_items\" : 5,\n",
    "        \"question\" : \"What atre the pokemons?\"\n",
    "    }\n",
    ")"
   ]
  },
  {
   "cell_type": "markdown",
   "id": "f94ba066",
   "metadata": {},
   "source": [
    "# Chaining Chain"
   ]
  },
  {
   "cell_type": "code",
   "execution_count": 44,
   "id": "a3ea1914",
   "metadata": {},
   "outputs": [],
   "source": [
    "from langchain_openai import ChatOpenAI\n",
    "from langchain_core.prompts import ChatPromptTemplate\n",
    "from langchain.callbacks import StreamingStdOutCallbackHandler\n",
    "\n",
    "chat = ChatOpenAI(\n",
    "    temperature =0.1,\n",
    "    streaming = True,\n",
    "    callbacks = [StreamingStdOutCallbackHandler()],\n",
    "    model = \"gpt-4.1-nano\"\n",
    ")\n",
    "\n",
    "chef_prompt = ChatPromptTemplate.from_messages(\n",
    "    [\n",
    "        (\n",
    "            \"system\",\n",
    "            \"\",\n",
    "        ),\n",
    "        (\n",
    "            \"human\", \"I want to cook {cuisine} food.\"\n",
    "        )\n",
    "    ]\n",
    ")\n",
    "\n",
    "chef_chain = chef_prompt | chat"
   ]
  },
  {
   "cell_type": "code",
   "execution_count": 45,
   "id": "b0612dec",
   "metadata": {},
   "outputs": [
    {
     "name": "stdout",
     "output_type": "stream",
     "text": [
      "That sounds delicious! Italian cuisine offers a wide variety of flavorful dishes. Here are some popular Italian recipes you might enjoy:\n",
      "\n",
      "1. **Spaghetti Carbonara**\n",
      "   - Ingredients: spaghetti, eggs, Pecorino Romano cheese, pancetta or guanciale, black pepper.\n",
      "   - Instructions: Cook spaghetti until al dente. In a bowl, whisk eggs and cheese. Cook pancetta until crispy. Toss hot pasta with pancetta, then mix in egg mixture off heat to create a creamy sauce. Season with black pepper.\n",
      "\n",
      "2. **Margherita Pizza**\n",
      "   - Ingredients: pizza dough, tomato sauce, fresh mozzarella, fresh basil, olive oil.\n",
      "   - Instructions: Roll out dough, spread tomato sauce, top with mozzarella and basil leaves. Drizzle with olive oil. Bake in a hot oven until crust is golden and cheese is bubbly.\n",
      "\n",
      "3. **Risotto alla Milanese**\n",
      "   - Ingredients: Arborio rice, saffron, chicken broth, onion, butter, Parmesan cheese.\n",
      "   - Instructions: Sauté chopped onion in butter, add rice and toast. Gradually add warm broth with saffron, stirring constantly until rice is creamy and cooked. Finish with Parmesan.\n",
      "\n",
      "4. **Lasagna**\n",
      "   - Ingredients: lasagna noodles, marinara sauce, béchamel sauce, ground beef or sausage, mozzarella, Parmesan.\n",
      "   - Instructions: Layer cooked noodles with meat sauce, béchamel, and cheese. Repeat layers and bake until bubbly and golden.\n",
      "\n",
      "Would you like a detailed recipe for any of these dishes or suggestions for other Italian foods?I'm glad you find these dishes appealing! As a vegetarian chef, I can suggest suitable alternatives for some ingredients to make these recipes vegetarian-friendly:\n",
      "\n",
      "1. **Spaghetti Carbonara**  \n",
      "   - Replace pancetta or guanciale with sautéed mushrooms, smoked tofu, or vegetarian bacon strips for a similar smoky flavor and crispy texture.\n",
      "\n",
      "2. **Margherita Pizza**  \n",
      "   - No replacement needed; just ensure the mozzarella is vegetarian (some cheeses contain animal rennet, so choose a vegetarian-friendly mozzarella).\n",
      "\n",
      "3. **Risotto alla Milanese**  \n",
      "   - No replacement needed; just use vegetable broth instead of chicken broth.\n",
      "\n",
      "4. **Lasagna**  \n",
      "   - Replace ground beef or sausage with a mixture of sautéed vegetables like zucchini, eggplant, spinach, or lentils for added protein and flavor.\n",
      "\n",
      "Would you like detailed recipes for any of these vegetarian adaptations?"
     ]
    },
    {
     "data": {
      "text/plain": [
       "AIMessage(content=\"I'm glad you find these dishes appealing! As a vegetarian chef, I can suggest suitable alternatives for some ingredients to make these recipes vegetarian-friendly:\\n\\n1. **Spaghetti Carbonara**  \\n   - Replace pancetta or guanciale with sautéed mushrooms, smoked tofu, or vegetarian bacon strips for a similar smoky flavor and crispy texture.\\n\\n2. **Margherita Pizza**  \\n   - No replacement needed; just ensure the mozzarella is vegetarian (some cheeses contain animal rennet, so choose a vegetarian-friendly mozzarella).\\n\\n3. **Risotto alla Milanese**  \\n   - No replacement needed; just use vegetable broth instead of chicken broth.\\n\\n4. **Lasagna**  \\n   - Replace ground beef or sausage with a mixture of sautéed vegetables like zucchini, eggplant, spinach, or lentils for added protein and flavor.\\n\\nWould you like detailed recipes for any of these vegetarian adaptations?\", additional_kwargs={}, response_metadata={'finish_reason': 'stop', 'model_name': 'gpt-4.1-nano-2025-04-14', 'system_fingerprint': 'fp_04d3664870', 'service_tier': 'default'}, id='run--b5a0db40-8cd1-4106-9c9b-e1913f54dae6-0')"
      ]
     },
     "execution_count": 45,
     "metadata": {},
     "output_type": "execute_result"
    }
   ],
   "source": [
    "veg_chef_prompt = ChatPromptTemplate.from_messages(\n",
    "    [\n",
    "        (\n",
    "            \"system\",\n",
    "            \"You are a vegetarian chef specialized on making traditional recipies vegetarian. You find alternative ingredients and explain their preparation. You don't radically modify the recipe. If there is no alternative for a food just say you don't know how to replace it.\"\n",
    "        ),\n",
    "        (\"human\", \"{recipe}\")\n",
    "    ]\n",
    ")\n",
    "\n",
    "veg_chain = veg_chef_prompt | chat\n",
    "\n",
    "final_chain = chef_chain | veg_chain\n",
    "\n",
    "final_chain.invoke(\n",
    "    {\n",
    "        \"cuisine\" : \"Italian\"\n",
    "    }\n",
    ")"
   ]
  }
 ],
 "metadata": {
  "kernelspec": {
   "display_name": "langchain-study (3.11.9)",
   "language": "python",
   "name": "python3"
  },
  "language_info": {
   "codemirror_mode": {
    "name": "ipython",
    "version": 3
   },
   "file_extension": ".py",
   "mimetype": "text/x-python",
   "name": "python",
   "nbconvert_exporter": "python",
   "pygments_lexer": "ipython3",
   "version": "3.11.9"
  }
 },
 "nbformat": 4,
 "nbformat_minor": 5
}
