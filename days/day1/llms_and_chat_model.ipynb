{
 "cells": [
  {
   "cell_type": "markdown",
   "id": "38da1363",
   "metadata": {},
   "source": [
    "# Chat Model"
   ]
  },
  {
   "cell_type": "code",
   "execution_count": 23,
   "id": "43f8cd0f",
   "metadata": {},
   "outputs": [],
   "source": [
    "from dotenv import load_dotenv\n",
    "import os\n",
    "\n",
    "load_dotenv()\n",
    "\n",
    "OPENAI_API_KEY = os.getenv(\"OPENAI_API_KEY\")"
   ]
  },
  {
   "cell_type": "code",
   "execution_count": 1,
   "id": "9d58b9bc",
   "metadata": {},
   "outputs": [
    {
     "name": "stderr",
     "output_type": "stream",
     "text": [
      "C:\\Users\\yunyg\\AppData\\Local\\Temp\\ipykernel_4476\\1457070020.py:9: LangChainDeprecationWarning: The method `BaseChatModel.predict` was deprecated in langchain-core 0.1.7 and will be removed in 1.0. Use :meth:`~invoke` instead.\n",
      "  chat.predict(\"정인이에 대한 소설 써줘.\")\n"
     ]
    },
    {
     "data": {
      "text/plain": [
       "\"시간 재단사 정인이\\n\\n정인이의 가게는 오래된 시장 골목 끝, 늘 젖어 있는 돌바닥 위에 조용히 앉아 있었다. 바람만 지나가도 딸랑거리는 얇은 종종종이 문종이 달린 유리문, 손때 묻은 나무 간판에는 조그맣게 이렇게 적혀 있었다. 시간 수선합니다. 길이 조절, 주름 펴기, 올 풀림 방지. 삭제는 불가.\\n\\n남들은 농담이라고 생각했지만, 문 안으로 들어오는 사람들은 금세 알았다. 바닥의 자국처럼 각자의 하루는 제각각 닳아 있었고, 정인이는 그 닳음을 읽을 줄 알았다. 그의 손은 천 대신 시간을 잡았다. 분침과 초침을 재단용 분필로 그어 보았고, 고운 바늘로 새벽의 가장자리를 꿰맸다. 천장에 매달린 작은 시계들은 각기 다른 박자로 뛰었고, 주전자에서 올라오는 수증기는 가끔 그 박자를 따라 춤을 추었다.\\n\\n한 남자가 처음 찾아왔을 때, 고개를 숙이고 어깨를 움츠린 채로 말했다. 출근길이 너무 길어요. 매일 아침 두 정거장이 세상 끝처럼 느껴져요. 조금만 줄일 수 있을까요. 정인이는 남자의 손목에서 미세하게 떨리는 초침을 보았다. 그 떨림이 유독 지하철 문이 닫히려는 순간 커졌다. 그는 가위를 들어 공기 위에 뭔가를 오려냈다. 정거장과 정거장 사이 숨 쉬는 틈, 광고와 광고 사이 흰 여백. 그 사이를 얇게 덧대어 주고 어깨선처럼 곧게 다림질했다. 다만 단추 하나를 주머니에 쑤셔 넣어주며 말했다. 이건 급히 뛰어야 하는 아침에만 채우세요. 늘 채우면 숨이 막힙니다.\\n\\n어느 무용수는 리허설이 너무 짧다는 울음을 가슴에 감추고 왔다. 무대 조명이 켜지고 꺼지는 그 사이, 치마자락이 제대로 펼쳐지지 않는다고 했다. 정인이는 무대의 시간을 건드릴 수는 없었지만, 그녀의 발목에 감겨 있는 미세한 두려움의 올을 풀어주었다. 발끝에 닿는 공기가 덜 무겁도록, 리듬의 바닥을 살짝 밀어올려 주었다. 그녀는 돌아가며 고개를 숙였다. 마치 새 신발 안에 얇은 깔창을 넣은 것처럼, 다음날 그녀는 뒤꿈치를 덜 다치고도 충분히 뛰었다.\\n\\n누구보다 오랫동안 가게에 드나든 이는 소은이었다. 그는 늘 저녁 무렵 들어와 주전자에서 처음 끓는 물을 받아 차를 우렸다. 부탁은 단 하나였다. 작별 인사의 세 분만 늘려달라고요. 말이 조금 천천히 나오게, 숨이 편히 쉬어지게. 정인이는 고개를 끄덕였다. 세 분은 늘 같은 길게 늘어난 선 위에 놓였다. 버스 정류장, 지하철 역, 집 앞 골목 모퉁이. 그 길어짐은 누군가에게는 미적거림이었으나 그에게는 기적이었다. 작별의 손을 떼기 전에, 입술을 떼기 전에, 마지막 눈빛이 반짝일 틈. 정인이는 그 틈을 잘 다져 두었다.\\n\\n하지만 모든 부탁을 들어줄 수는 없었다. 아침마다 찾아오던 여자는 어느 날, 아주 조용한 목소리로 말했다. 그날 새벽 한 시간을 없애주세요. 그 시간만 없으면, 나는 다른 사람이 될 수 있을 것 같아요. 정인이는 그 자리에서 고개를 저었다. 삭제는 불가해요. 다만, 그 시간의 올을 덜 보이게 할 수는 있어요. 무릎에 난 흉터처럼, 비가 오면 아프겠지만 평소에는 잊고 지낼 수 있게 해 드릴게요. 그는 그녀의 기억에서 가장 날카로운 부분을 면도날처럼 조심스레 깎아 흐릿하게 만들고, 다 해진 자리에 가벼운 천을 덧댔다. 그녀는 울지도 웃지도 않았다. 그냥 고맙다고만 말하고 오래 서 있던 그림자를 끌고 나갔다.\\n\\n정인이의 작업대 위에는 실타래가 여러 색으로 놓여 있었다. 아침을 꿰매는 그레이, 점심의 중간색, 저녁의 어둠에 미묘하게이 묻어 있는 보랏빛. 그의 마음에만 한 타래의 실이 있었다. 누구에게도 쓰지 않은, '언젠가'라는 이름의 실. 그는 그 실을 생각하면 오래 미뤄둔 여행을 떠올렸다. 해안선을 따라 북쪽으로 올라가, 파도가 부서지는 소리를 이마로 받고, 새벽에 눈 뜰 수 있는 곳. 그러나 그는 늘 가게 문을 닫지 않았다. 문이 열려 있어야만 사람들이 숨을 쉬러 찾아올 수 있다고 믿었기 때문이다.\\n\\n어느 비 오는 날, 작은 소녀가 젖은 우산을 들고 들어왔다. 엄마가 물으라던 이름표 대신 그녀는 손바닥만 한 시계를 내밀었다. 고모가 주고 간 시계래요. 고장 난 것 같아요. 밤마다 자꾸 멈춰요. 정인이는 시계를 귀에 대고 잠시 들었다. 똑딱, 똑… 그리고 한참의 침묵. 그는 시계 뒷면을 열어 오래된 주소 하나를 읽어냈다. 바늘과 태엽 사이에 낡은 자장가의 조각이 껴 있었다. 노랫소리가 시계를 때때로 멈추게 했다. 그는 노랫소리를 완전히 빼내지 않았다. 대신 그 소리가 바늘의 박자와 어깨동무할 수 있게 조용히 위치를 옮겼다. 소녀가 묻는다. 이제 밤에도 움직일까요? 정인이는 웃었다. 밤에도, 꿈에서도. 다만 노래가 나올 때는 잠깐 같이 쉬어주세요.\\n\\n그런 평온의 일들이 이어지던 어느 겨울밤, 도시의 모든 시계가 동시에 기침을 했다. 불빛들이 한꺼번에 파도처럼 꺼졌다. 골목을 묶어두던 얇은 줄이 끊어진 것처럼, 소리가 멎고 시간이 맨살을 드러냈다. 사람들이 쏟아져 나와 하늘을 쳐다보았다. 별들은 제각기 다른 박자로 깜빡였고, 그 사이사이 침묵이 살을 에게 했다. 누군가 가게 문을 연다. 어디라도 지금만 버틸 수 있게 해주세요.\\n\\n정인이는 고개를 들어 천장을 보았다. 걸려 있던 시계들이 하나둘 멈춰 있었다. 그때 그는 알았다. 자신의 가게가 등대에도, 피난처에도 될 수 없는 순간을. 오직 나눠야만 버틸 수 있는 때가 있다는 걸. 그는 서랍에서 언젠가의 실타래를 꺼냈다. 가장 아끼던, 아직 어디에도 쓰지 않았던 빛나는 실. 그는 자신의 하루에서 가장 여유롭다 믿어 의심치 않던, 아무에게도 말하지 않고 남겨둔 오후의 긴 시간이 사실은 얇고 부서지기 쉽다는 것을 느꼈다. 그래도 그는 가위를 들었다. 자신의 시간에서 조각을 잘라냈다. 커튼을 잘라 부엌창에 덧대는 일처럼, 그는 골목의 밤에 자신의 오후를 덧댔다. 사람들의 촛불이 조금 더 오래 타올랐다. 아이의 울음이 낮아지고, 할머니의 손등이 덜 떨렸다.\\n\\n밤이 끝날 때까지 그는 곁에 앉아 있었다. 종이컵에 담긴 미지근한 차를 마시고, 어디선가 들려오는 손풍금 소리를 들었다. 새벽이 아주 얇은 종이처럼 창문을 통해 들어왔다. 누군가 작은 목소리로 말했다. 살았네. 겨우, 살았네. 그제야 정인이는 실이 바닥났다는 걸 알았다. 여행을 위해 남겨둔, 언젠가의 실이. 그는 상자 속 빈 심지를 손바닥에 올려 놓고 한동안 가만히 있었다.\\n\\n그 다음 날, 소은의 마지막 편지가 도착했다. 봉투는 오래된 듯, 모서리가 부드럽게 닳아 있었다. 편지에는 짧게 적혀 있었다. 세 분 사이에 저는 자꾸 돌아보았어요. 자꾸만 더 오래 인사하고 싶었어요. 그 시간들이 저를 버티게 했어요. 이제는 그 세 분을 혼자서도 늘릴 수 있을 것 같아요. 늘 고마웠습니다. 그 아래에는 작은 실타래 하나가 들어 있었다. 눈으로 보기엔 평범했지만, 손가락에 감아보면 알 수 있었다. 처음 잡을 때는 거친데, 조금만 문지르면 부드러워지는 실. 이름표가 달려 있었다. 향후.\\n\\n그날 정인이는 간판을 내려서 뒷면에 작은 글씨를 덧대 적었다. 삭제는 불가. 덧붙임과 보완, 길이 조절만. 그는 문을 다시 걸어 두며 생각했다. 우리가 할 수 있는 건 낡은 가장자리를 정리해 주고, 다 해진 곳에 천을 덧대고, 위태로운 곳에 속옷처럼 보이지 않는 누빔을 넣는 일뿐이라고. 그리고 가끔은, 우리 자신의 시간을 잘라 나눠주는 일. 그래도 그것으로 충분하다.\\n\\n햇살이 바닥의 물자국을 천천히 말리는 오후, 정인이는 가게 앞 의자에 앉아 있었다. 시장의 소리가, 사람들 발소리가, 말끝의 웃음이 지나갔다. 그는 복사기에서 막 나온 종이처럼 따끈한 공기를 손으로 만졌다. 자신의 하루의 가장자리를 손톱으로 살짝 집어 올리고, 거기에 얇은 실로 몇 땀만 더해 보았다. 늘리려는 게 아니라 맞추려는 수선. 그에게는 어느새 그것이 더 중요해져 있었다.\\n\\n해가 기울고 바람이 조금 쌀쌀해질 때, 소녀가 다시 와서 말했다. 시계가 밤에도 잘 움직였어요. 덕분에 엄마가 노래를 더 오래 불러줬어요. 정인이는 쪼그려 앉아 소녀의 눈높이를 맞췄다. 그럼, 그 노래를 네가 기억해 두고 다음에 엄마가 피곤하면 네가 불러줘야겠네. 소녀는 고개를 끄덕였다. 그럼요. 그건 삭제하면 안 돼요. 중요한 거잖아요. 그는 웃었다. 그래, 삭제는 불가야.\\n\\n문을 닫을 시간, 그는 아직 조금 남은 저녁의 올을 어루만졌다. 밤의 안쪽에서 불어오는 바람이 그의 얼굴을 스쳤다. 언젠가 꼭 가겠다고 마음먹었던 바다의 냄새가, 아주 희미하게 그 바람 속에 있었다. 그리고 그건 갑자기 어제보다 덜 아쉬웠다. 그는 안에 남은 등불을 하나씩 끄며 가만히 자신에게 속삭였다. 내일은 내일의 길이를 재고, 내일의 주름을 펴자. 오늘은 오늘의 옷을 잘 챙겨 옷걸이에 걸어 두자. 그리고 누군가 찾아오면, 우리가 할 수 있는 만큼만 정성을 다하자.\\n\\n골목 끝에서 누군가가 달려왔고, 문고리를 잡은 뒤 숨을 고르며 말했다. 혹시, 잠깐의 용기 같은 걸 꿰매주실 수 있을까요? 정인이는 웃으며 대답했다. 네, 잠깐이면 충분합니다. 긴 것은 푸는 동안 길어지거든요. 그리고 다시 작업등을 켰다. 고운 빛이 밤으로 흘러나오며, 도시는 조금 더 따뜻해졌다.\""
      ]
     },
     "execution_count": 1,
     "metadata": {},
     "output_type": "execute_result"
    }
   ],
   "source": [
    "from langchain_openai import ChatOpenAI, OpenAI\n",
    "\n",
    "chat = ChatOpenAI(\n",
    "    model= \"gpt-5\",\n",
    "    temperature=1\n",
    ")\n",
    "llm = OpenAI()\n",
    "\n",
    "chat.predict(\"정인이에 대한 소설 써줘.\")\n"
   ]
  },
  {
   "cell_type": "code",
   "execution_count": null,
   "id": "7b7dd2af",
   "metadata": {},
   "outputs": [],
   "source": []
  },
  {
   "cell_type": "markdown",
   "id": "d4a10c81",
   "metadata": {},
   "source": [
    "# Message Schema"
   ]
  },
  {
   "cell_type": "code",
   "execution_count": 19,
   "id": "ad65fac6",
   "metadata": {},
   "outputs": [],
   "source": [
    "from langchain_openai import ChatOpenAI\n",
    "\n",
    "chat = ChatOpenAI(\n",
    "    model=\"gpt-5-nano\",\n",
    "    temperature=0.1\n",
    ")"
   ]
  },
  {
   "cell_type": "code",
   "execution_count": null,
   "id": "a011f463",
   "metadata": {},
   "outputs": [
    {
     "data": {
      "text/plain": [
       "AIMessage(content='안녕하세요! 저는 지리 전문가입니다. 하지만 구체적인 나라 이름을 알려주시면 두 나라 사이의 거리를 알려드릴 수 있어요. 제 이름은 ChatGPT입니다.', additional_kwargs={'refusal': None}, response_metadata={'token_usage': {'completion_tokens': 39, 'prompt_tokens': 59, 'total_tokens': 98, 'completion_tokens_details': {'accepted_prediction_tokens': 0, 'audio_tokens': 0, 'reasoning_tokens': 0, 'rejected_prediction_tokens': 0}, 'prompt_tokens_details': {'audio_tokens': 0, 'cached_tokens': 0}}, 'model_name': 'gpt-4.1-nano-2025-04-14', 'system_fingerprint': 'fp_7c233bf9d1', 'id': 'chatcmpl-CJe664x4LsowVYAfmPXDNZ1ULkApK', 'service_tier': 'default', 'finish_reason': 'stop', 'logprobs': None}, id='run--4e47c2ac-1e5a-4220-be81-05b5bb2bd21e-0', usage_metadata={'input_tokens': 59, 'output_tokens': 39, 'total_tokens': 98, 'input_token_details': {'audio': 0, 'cache_read': 0}, 'output_token_details': {'audio': 0, 'reasoning': 0}})"
      ]
     },
     "execution_count": 24,
     "metadata": {},
     "output_type": "execute_result"
    }
   ],
   "source": [
    "from langchain.schema import HumanMessage, AIMessage, SystemMessage\n",
    "\n",
    "messages = [\n",
    "    SystemMessage(\n",
    "        content = \"You are a geography expert. And you only reply in {language}\"\n",
    "    ),\n",
    "    AIMessage(\n",
    "        content = \"안녕, 난 {name}야!\"\n",
    "    ),\n",
    "    HumanMessage(\n",
    "        content = \"What is the distance between {country_a} and {country_b}. Alse, what if your name?\"\n",
    "    )\n",
    "]\n",
    "\n",
    "chat.predict_messages(messages=messages)"
   ]
  },
  {
   "cell_type": "markdown",
   "id": "f69d1b22",
   "metadata": {},
   "source": [
    "# Message Template"
   ]
  },
  {
   "cell_type": "code",
   "execution_count": 21,
   "id": "db3644d2",
   "metadata": {},
   "outputs": [
    {
     "data": {
      "text/plain": [
       "AIMessage(content='The distance between Korea (specifically South Korea) and Japan varies depending on the specific locations measured. The shortest distance between the two countries is across the Korea Strait, between the southwestern tip of South Korea (such as Busan) and the southwestern islands of Japan (like Fukuoka). \\n\\n- The approximate straight-line (air) distance between Busan, South Korea, and Fukuoka, Japan, is about **200 kilometers (124 miles)**.\\n\\nIf you are referring to the distance between the capitals:\\n\\n- Seoul, South Korea, to Tokyo, Japan, is approximately **1,150 kilometers (715 miles)** in a straight line.\\n\\nPlease specify the exact locations if you need a more precise measurement!', additional_kwargs={'refusal': None}, response_metadata={'token_usage': {'completion_tokens': 143, 'prompt_tokens': 15, 'total_tokens': 158, 'completion_tokens_details': {'accepted_prediction_tokens': 0, 'audio_tokens': 0, 'reasoning_tokens': 0, 'rejected_prediction_tokens': 0}, 'prompt_tokens_details': {'audio_tokens': 0, 'cached_tokens': 0}}, 'model_name': 'gpt-4.1-nano-2025-04-14', 'system_fingerprint': 'fp_7c233bf9d1', 'id': 'chatcmpl-CJe0rMRuIYsUQugLEKsHwJHtMYYgL', 'service_tier': 'default', 'finish_reason': 'stop', 'logprobs': None}, id='run--c86e6420-4a13-4968-b7bd-a70ad0121413-0', usage_metadata={'input_tokens': 15, 'output_tokens': 143, 'total_tokens': 158, 'input_token_details': {'audio': 0, 'cache_read': 0}, 'output_token_details': {'audio': 0, 'reasoning': 0}})"
      ]
     },
     "execution_count": 21,
     "metadata": {},
     "output_type": "execute_result"
    }
   ],
   "source": [
    "from langchain_openai import ChatOpenAI\n",
    "from langchain_core.prompts import PromptTemplate, ChatPromptTemplate\n",
    "\n",
    "chat = ChatOpenAI(\n",
    "    model = \"gpt-4.1-nano\",\n",
    "    temperature = 0.1\n",
    ")\n",
    "\n",
    "template = PromptTemplate.from_template(\n",
    "    \"What is the distance between {country_a} and {country_b}\"\n",
    ")\n",
    "\n",
    "prompt = template.format(country_a = \"korea\", country_b = \"Japan\")\n",
    "\n",
    "chat.invoke(prompt)"
   ]
  },
  {
   "cell_type": "code",
   "execution_count": 22,
   "id": "0cb2f5fe",
   "metadata": {},
   "outputs": [
    {
     "data": {
      "text/plain": [
       "AIMessage(content='스페인과 이탈리아 사이의 거리는 약 1,000에서 1,200킬로미터 정도입니다. 두 나라 사이의 정확한 거리는 출발점과 도착점에 따라 다를 수 있습니다. 제 이름은 양민 김입니다.', additional_kwargs={'refusal': None}, response_metadata={'token_usage': {'completion_tokens': 58, 'prompt_tokens': 54, 'total_tokens': 112, 'completion_tokens_details': {'accepted_prediction_tokens': 0, 'audio_tokens': 0, 'reasoning_tokens': 0, 'rejected_prediction_tokens': 0}, 'prompt_tokens_details': {'audio_tokens': 0, 'cached_tokens': 0}}, 'model_name': 'gpt-4.1-nano-2025-04-14', 'system_fingerprint': 'fp_7c233bf9d1', 'id': 'chatcmpl-CJe0tDUrjJyAoTt9t4gxh36BNUWeC', 'service_tier': 'default', 'finish_reason': 'stop', 'logprobs': None}, id='run--c5c6cc0c-c527-48b0-8efb-7a609682a9bb-0', usage_metadata={'input_tokens': 54, 'output_tokens': 58, 'total_tokens': 112, 'input_token_details': {'audio': 0, 'cache_read': 0}, 'output_token_details': {'audio': 0, 'reasoning': 0}})"
      ]
     },
     "execution_count": 22,
     "metadata": {},
     "output_type": "execute_result"
    }
   ],
   "source": [
    "template = ChatPromptTemplate.from_messages(\n",
    "    [\n",
    "        (\"system\" , \"You are a geography expert. And you only reply in {language}\"),\n",
    "        (\"ai\", \"Ciao, mi chiamo {name}!\"),\n",
    "        (\n",
    "            \"human\",\n",
    "            \"What is the distance between {country_a} and {country_b}. Also, what is your name?\"\n",
    "        )\n",
    "    ]\n",
    ")\n",
    "\n",
    "prompt = template.format_messages(\n",
    "    language = \"Korean\",\n",
    "    name = \"Yangmin Kim\",\n",
    "    country_a = \"spain\",\n",
    "    country_b = \"Italia\"\n",
    ")\n",
    "\n",
    "chat.invoke(prompt)"
   ]
  },
  {
   "cell_type": "markdown",
   "id": "ebaf8376",
   "metadata": {},
   "source": [
    "# Output Parser"
   ]
  },
  {
   "cell_type": "code",
   "execution_count": 25,
   "id": "c1034a80",
   "metadata": {},
   "outputs": [],
   "source": [
    "from langchain_openai import ChatOpenAI\n",
    "from langchain_core.prompts import ChatPromptTemplate\n",
    "\n",
    "chat = ChatOpenAI(\n",
    "    model = \"gpt-4o-mini\",\n",
    "    temperature = 0.1\n",
    ")"
   ]
  },
  {
   "cell_type": "code",
   "execution_count": 29,
   "id": "06b0d1aa",
   "metadata": {},
   "outputs": [],
   "source": [
    "from langchain.schema import BaseOutputParser\n",
    "\n",
    "\"\"\"\n",
    "a, b, c, d\n",
    "\"\"\"\n",
    "\n",
    "\n",
    "class CommaOutputParser(BaseOutputParser):\n",
    "    def parse(self, text):\n",
    "        items = text.strip().split(\",\")\n",
    "        return list(map(str.strip, items))"
   ]
  },
  {
   "cell_type": "code",
   "execution_count": 33,
   "id": "016b6de6",
   "metadata": {},
   "outputs": [
    {
     "data": {
      "text/plain": [
       "['a', ' b', ' c', ' d']"
      ]
     },
     "execution_count": 33,
     "metadata": {},
     "output_type": "execute_result"
    }
   ],
   "source": [
    "test = \"a, b, c, d\"\n",
    "\n",
    "test.strip().split(\",\")"
   ]
  },
  {
   "cell_type": "code",
   "execution_count": 36,
   "id": "f998430c",
   "metadata": {},
   "outputs": [],
   "source": [
    "template = ChatPromptTemplate.from_messages(\n",
    "    [\n",
    "        (\n",
    "            \"system\",\n",
    "            \"You are a list generating machine. Everything you are asked will be answerd with a comma separated list of max {max_items} in lowercase. DO NOT reply anything else\"\n",
    "        ),\n",
    "        (\"human\", \"{question}\")\n",
    "    ]\n",
    ")"
   ]
  },
  {
   "cell_type": "code",
   "execution_count": 37,
   "id": "26f6d519",
   "metadata": {},
   "outputs": [
    {
     "data": {
      "text/plain": [
       "['pikachu', 'bulbasaur', 'charmander', 'squirtle', 'jigglypuff']"
      ]
     },
     "execution_count": 37,
     "metadata": {},
     "output_type": "execute_result"
    }
   ],
   "source": [
    "chain = template | chat | CommaOutputParser()\n",
    "\n",
    "chain.invoke(\n",
    "    {\n",
    "        \"max_items\" : 5,\n",
    "        \"question\" : \"What atre the pokemons?\"\n",
    "    }\n",
    ")"
   ]
  },
  {
   "cell_type": "markdown",
   "id": "f94ba066",
   "metadata": {},
   "source": [
    "# Chaining Chain"
   ]
  },
  {
   "cell_type": "code",
   "execution_count": null,
   "id": "a3ea1914",
   "metadata": {},
   "outputs": [],
   "source": [
    "from langchain_openai import ChatOpenAI\n",
    "from langchain_core.prompts import ChatPromptTemplate\n",
    "from langchain.callbacks import StreamingStdOutCallbackHandler\n",
    "\n",
    "chat = ChatOpenAI(\n",
    "    temperature = 0.1,\n",
    "    streaming = True,\n",
    "    callbacks = [StreamingStdOutCallbackHandler()],\n",
    "    model = \"gpt-4.1-nano\"\n",
    ")\n",
    "\n",
    "chef_prompt = ChatPromptTemplate.from_messages(\n",
    "    [\n",
    "        (\n",
    "            \"system\",\n",
    "            \"\",\n",
    "        ),\n",
    "        (\n",
    "            \"human\", \"I want to cook {cuisine} food.\"\n",
    "        )\n",
    "    ]\n",
    ")\n",
    "\n",
    "chef_chain = chef_prompt | chat"
   ]
  },
  {
   "cell_type": "code",
   "execution_count": 45,
   "id": "b0612dec",
   "metadata": {},
   "outputs": [
    {
     "name": "stdout",
     "output_type": "stream",
     "text": [
      "That sounds delicious! Italian cuisine offers a wide variety of flavorful dishes. Here are some popular Italian recipes you might enjoy:\n",
      "\n",
      "1. **Spaghetti Carbonara**\n",
      "   - Ingredients: spaghetti, eggs, Pecorino Romano cheese, pancetta or guanciale, black pepper.\n",
      "   - Instructions: Cook spaghetti until al dente. In a bowl, whisk eggs and cheese. Cook pancetta until crispy. Toss hot pasta with pancetta, then mix in egg mixture off heat to create a creamy sauce. Season with black pepper.\n",
      "\n",
      "2. **Margherita Pizza**\n",
      "   - Ingredients: pizza dough, tomato sauce, fresh mozzarella, fresh basil, olive oil.\n",
      "   - Instructions: Roll out dough, spread tomato sauce, top with mozzarella and basil leaves. Drizzle with olive oil. Bake in a hot oven until crust is golden and cheese is bubbly.\n",
      "\n",
      "3. **Risotto alla Milanese**\n",
      "   - Ingredients: Arborio rice, saffron, chicken broth, onion, butter, Parmesan cheese.\n",
      "   - Instructions: Sauté chopped onion in butter, add rice and toast. Gradually add warm broth with saffron, stirring constantly until rice is creamy and cooked. Finish with Parmesan.\n",
      "\n",
      "4. **Lasagna**\n",
      "   - Ingredients: lasagna noodles, marinara sauce, béchamel sauce, ground beef or sausage, mozzarella, Parmesan.\n",
      "   - Instructions: Layer cooked noodles with meat sauce, béchamel, and cheese. Repeat layers and bake until bubbly and golden.\n",
      "\n",
      "Would you like a detailed recipe for any of these dishes or suggestions for other Italian foods?I'm glad you find these dishes appealing! As a vegetarian chef, I can suggest suitable alternatives for some ingredients to make these recipes vegetarian-friendly:\n",
      "\n",
      "1. **Spaghetti Carbonara**  \n",
      "   - Replace pancetta or guanciale with sautéed mushrooms, smoked tofu, or vegetarian bacon strips for a similar smoky flavor and crispy texture.\n",
      "\n",
      "2. **Margherita Pizza**  \n",
      "   - No replacement needed; just ensure the mozzarella is vegetarian (some cheeses contain animal rennet, so choose a vegetarian-friendly mozzarella).\n",
      "\n",
      "3. **Risotto alla Milanese**  \n",
      "   - No replacement needed; just use vegetable broth instead of chicken broth.\n",
      "\n",
      "4. **Lasagna**  \n",
      "   - Replace ground beef or sausage with a mixture of sautéed vegetables like zucchini, eggplant, spinach, or lentils for added protein and flavor.\n",
      "\n",
      "Would you like detailed recipes for any of these vegetarian adaptations?"
     ]
    },
    {
     "data": {
      "text/plain": [
       "AIMessage(content=\"I'm glad you find these dishes appealing! As a vegetarian chef, I can suggest suitable alternatives for some ingredients to make these recipes vegetarian-friendly:\\n\\n1. **Spaghetti Carbonara**  \\n   - Replace pancetta or guanciale with sautéed mushrooms, smoked tofu, or vegetarian bacon strips for a similar smoky flavor and crispy texture.\\n\\n2. **Margherita Pizza**  \\n   - No replacement needed; just ensure the mozzarella is vegetarian (some cheeses contain animal rennet, so choose a vegetarian-friendly mozzarella).\\n\\n3. **Risotto alla Milanese**  \\n   - No replacement needed; just use vegetable broth instead of chicken broth.\\n\\n4. **Lasagna**  \\n   - Replace ground beef or sausage with a mixture of sautéed vegetables like zucchini, eggplant, spinach, or lentils for added protein and flavor.\\n\\nWould you like detailed recipes for any of these vegetarian adaptations?\", additional_kwargs={}, response_metadata={'finish_reason': 'stop', 'model_name': 'gpt-4.1-nano-2025-04-14', 'system_fingerprint': 'fp_04d3664870', 'service_tier': 'default'}, id='run--b5a0db40-8cd1-4106-9c9b-e1913f54dae6-0')"
      ]
     },
     "execution_count": 45,
     "metadata": {},
     "output_type": "execute_result"
    }
   ],
   "source": [
    "veg_chef_prompt = ChatPromptTemplate.from_messages(\n",
    "    [\n",
    "        (\n",
    "            \"system\",\n",
    "            \"You are a vegetarian chef specialized on making traditional recipies vegetarian. You find alternative ingredients and explain their preparation. You don't radically modify the recipe. If there is no alternative for a food just say you don't know how to replace it.\"\n",
    "        ),\n",
    "        (\"human\", \"{recipe}\")\n",
    "    ]\n",
    ")\n",
    "\n",
    "veg_chain = veg_chef_prompt | chat\n",
    "\n",
    "final_chain = chef_chain | veg_chain\n",
    "\n",
    "final_chain.invoke(\n",
    "    {\n",
    "        \"cuisine\" : \"Italian\"\n",
    "    }\n",
    ")"
   ]
  }
 ],
 "metadata": {
  "kernelspec": {
   "display_name": "langchain-study (3.11.9)",
   "language": "python",
   "name": "python3"
  },
  "language_info": {
   "codemirror_mode": {
    "name": "ipython",
    "version": 3
   },
   "file_extension": ".py",
   "mimetype": "text/x-python",
   "name": "python",
   "nbconvert_exporter": "python",
   "pygments_lexer": "ipython3",
   "version": "3.11.9"
  }
 },
 "nbformat": 4,
 "nbformat_minor": 5
}
